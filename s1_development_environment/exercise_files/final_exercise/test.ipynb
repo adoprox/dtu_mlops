{
 "cells": [
  {
   "cell_type": "code",
   "execution_count": 3,
   "metadata": {},
   "outputs": [],
   "source": [
    "import torch\n",
    "from torchvision import datasets, transforms\n",
    "from torch.utils.data import TensorDataset, DataLoader\n",
    "#import helper\n",
    "\n",
    "\n",
    "def data_fetching():\n",
    "    path = '/home/adop/mlops/dtu_mlops/data/corruptmnist/'\n",
    "    train_images_list, train_labels_list = [], []\n",
    "    test_images, test_labels = None, None\n",
    "    for i in range(0,6):\n",
    "        train_images_path = path + f'train_images_{i}.pt'\n",
    "        train_labels_path = path + f'train_target_{i}.pt'\n",
    "        \n",
    "        train_images = torch.load(train_images_path)\n",
    "        train_labels = torch.load(train_labels_path)\n",
    "        \n",
    "        train_images_list.append(train_images)\n",
    "        train_labels_list.append(train_labels)\n",
    "\n",
    "    train_images = torch.cat(train_images_list, dim=0)\n",
    "    train_labels = torch.cat(train_labels_list, dim=0)\n",
    "\n",
    "    test_images = torch.load(path+f'test_images.pt')\n",
    "    test_labels = torch.load(path+f'test_target.pt')\n",
    "\n",
    "    train_dataset = TensorDataset(train_images, train_labels)\n",
    "    test_dataset = TensorDataset(test_images, test_labels)\n",
    "\n",
    "    batch_size = 64\n",
    "    train = DataLoader(train_dataset, batch_size=batch_size, shuffle=True)\n",
    "    test = DataLoader(test_dataset, batch_size=batch_size, shuffle=False)\n",
    "\n",
    "    return train, test"
   ]
  },
  {
   "cell_type": "code",
   "execution_count": 5,
   "metadata": {},
   "outputs": [
    {
     "name": "stdout",
     "output_type": "stream",
     "text": [
      "<torch.utils.data.dataloader.DataLoader object at 0x7f4d6e0458d0>\n",
      "<torch.utils.data.dataloader.DataLoader object at 0x7f4d6e045660>\n"
     ]
    }
   ],
   "source": [
    "a,b = data_fetching()\n",
    "print(a)\n",
    "print(b)"
   ]
  },
  {
   "cell_type": "code",
   "execution_count": null,
   "metadata": {},
   "outputs": [],
   "source": []
  }
 ],
 "metadata": {
  "kernelspec": {
   "display_name": "Python 3",
   "language": "python",
   "name": "python3"
  },
  "language_info": {
   "codemirror_mode": {
    "name": "ipython",
    "version": 3
   },
   "file_extension": ".py",
   "mimetype": "text/x-python",
   "name": "python",
   "nbconvert_exporter": "python",
   "pygments_lexer": "ipython3",
   "version": "3.10.12"
  }
 },
 "nbformat": 4,
 "nbformat_minor": 2
}
